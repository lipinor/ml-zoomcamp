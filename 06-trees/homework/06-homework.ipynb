{
 "cells": [
  {
   "cell_type": "markdown",
   "metadata": {},
   "source": [
    "## Homework\n",
    "\n",
    "The goal of this homework is to create a regression model for predicting housing prices (column 'median_house_value').  \n",
    "\n",
    "In this homework we'll again use the California Housing Prices dataset - the same one we used in homework 2 and 3.\n",
    "\n",
    "You can take it from [Kaggle](https://www.kaggle.com/datasets/camnugent/california-housing-prices) or download using wget link mentioned below:\n",
    "\n",
    "```\n",
    "wget https://raw.githubusercontent.com/alexeygrigorev/datasets/master/housing.csv\n",
    "\n",
    "```\n",
    "\n",
    "> Note: sometimes your answer doesn't match one of the options exactly. That's fine. \n",
    "Select the option that's closest to your solution.\n",
    "\n",
    "\n",
    "## Loading the data\n",
    "\n",
    "Use only the following columns:  \n",
    "* `'latitude'`,\n",
    "* `'longitude'`,\n",
    "* `'housing_median_age'`,\n",
    "* `'total_rooms'`,\n",
    "* `'total_bedrooms'`,\n",
    "* `'population'`,\n",
    "* `'households'`,\n",
    "* `'median_income'`,\n",
    "* `'median_house_value'`,\n",
    "* `'ocean_proximity'`  \n",
    "\n",
    "* Fill NAs with 0.\n",
    "* Apply the log tranform to `median_house_value`.\n",
    "* Do train/validation/test split with 60%/20%/20% distribution. \n",
    "* Use the `train_test_split` function and set the `random_state` parameter to 1.\n",
    "* Use `DictVectorizer` to turn the dataframe into matrices.\n"
   ]
  },
  {
   "cell_type": "code",
   "execution_count": 1,
   "metadata": {},
   "outputs": [],
   "source": [
    "import pandas as pd\n",
    "import numpy as np\n",
    "import seaborn as sns\n",
    "from matplotlib import pyplot as plt\n",
    "%matplotlib inline"
   ]
  },
  {
   "cell_type": "markdown",
   "metadata": {},
   "source": [
    "Loading the dataset:"
   ]
  },
  {
   "cell_type": "code",
   "execution_count": 2,
   "metadata": {},
   "outputs": [
    {
     "data": {
      "text/html": [
       "<div>\n",
       "<style scoped>\n",
       "    .dataframe tbody tr th:only-of-type {\n",
       "        vertical-align: middle;\n",
       "    }\n",
       "\n",
       "    .dataframe tbody tr th {\n",
       "        vertical-align: top;\n",
       "    }\n",
       "\n",
       "    .dataframe thead th {\n",
       "        text-align: right;\n",
       "    }\n",
       "</style>\n",
       "<table border=\"1\" class=\"dataframe\">\n",
       "  <thead>\n",
       "    <tr style=\"text-align: right;\">\n",
       "      <th></th>\n",
       "      <th>longitude</th>\n",
       "      <th>latitude</th>\n",
       "      <th>housing_median_age</th>\n",
       "      <th>total_rooms</th>\n",
       "      <th>total_bedrooms</th>\n",
       "      <th>population</th>\n",
       "      <th>households</th>\n",
       "      <th>median_income</th>\n",
       "      <th>median_house_value</th>\n",
       "      <th>ocean_proximity</th>\n",
       "    </tr>\n",
       "  </thead>\n",
       "  <tbody>\n",
       "    <tr>\n",
       "      <th>0</th>\n",
       "      <td>-122.23</td>\n",
       "      <td>37.88</td>\n",
       "      <td>41.0</td>\n",
       "      <td>880.0</td>\n",
       "      <td>129.0</td>\n",
       "      <td>322.0</td>\n",
       "      <td>126.0</td>\n",
       "      <td>8.3252</td>\n",
       "      <td>452600.0</td>\n",
       "      <td>NEAR BAY</td>\n",
       "    </tr>\n",
       "    <tr>\n",
       "      <th>1</th>\n",
       "      <td>-122.22</td>\n",
       "      <td>37.86</td>\n",
       "      <td>21.0</td>\n",
       "      <td>7099.0</td>\n",
       "      <td>1106.0</td>\n",
       "      <td>2401.0</td>\n",
       "      <td>1138.0</td>\n",
       "      <td>8.3014</td>\n",
       "      <td>358500.0</td>\n",
       "      <td>NEAR BAY</td>\n",
       "    </tr>\n",
       "    <tr>\n",
       "      <th>2</th>\n",
       "      <td>-122.24</td>\n",
       "      <td>37.85</td>\n",
       "      <td>52.0</td>\n",
       "      <td>1467.0</td>\n",
       "      <td>190.0</td>\n",
       "      <td>496.0</td>\n",
       "      <td>177.0</td>\n",
       "      <td>7.2574</td>\n",
       "      <td>352100.0</td>\n",
       "      <td>NEAR BAY</td>\n",
       "    </tr>\n",
       "    <tr>\n",
       "      <th>3</th>\n",
       "      <td>-122.25</td>\n",
       "      <td>37.85</td>\n",
       "      <td>52.0</td>\n",
       "      <td>1274.0</td>\n",
       "      <td>235.0</td>\n",
       "      <td>558.0</td>\n",
       "      <td>219.0</td>\n",
       "      <td>5.6431</td>\n",
       "      <td>341300.0</td>\n",
       "      <td>NEAR BAY</td>\n",
       "    </tr>\n",
       "    <tr>\n",
       "      <th>4</th>\n",
       "      <td>-122.25</td>\n",
       "      <td>37.85</td>\n",
       "      <td>52.0</td>\n",
       "      <td>1627.0</td>\n",
       "      <td>280.0</td>\n",
       "      <td>565.0</td>\n",
       "      <td>259.0</td>\n",
       "      <td>3.8462</td>\n",
       "      <td>342200.0</td>\n",
       "      <td>NEAR BAY</td>\n",
       "    </tr>\n",
       "  </tbody>\n",
       "</table>\n",
       "</div>"
      ],
      "text/plain": [
       "   longitude  latitude  housing_median_age  total_rooms  total_bedrooms  \\\n",
       "0    -122.23     37.88                41.0        880.0           129.0   \n",
       "1    -122.22     37.86                21.0       7099.0          1106.0   \n",
       "2    -122.24     37.85                52.0       1467.0           190.0   \n",
       "3    -122.25     37.85                52.0       1274.0           235.0   \n",
       "4    -122.25     37.85                52.0       1627.0           280.0   \n",
       "\n",
       "   population  households  median_income  median_house_value ocean_proximity  \n",
       "0       322.0       126.0         8.3252            452600.0        NEAR BAY  \n",
       "1      2401.0      1138.0         8.3014            358500.0        NEAR BAY  \n",
       "2       496.0       177.0         7.2574            352100.0        NEAR BAY  \n",
       "3       558.0       219.0         5.6431            341300.0        NEAR BAY  \n",
       "4       565.0       259.0         3.8462            342200.0        NEAR BAY  "
      ]
     },
     "execution_count": 2,
     "metadata": {},
     "output_type": "execute_result"
    }
   ],
   "source": [
    "df = pd.read_csv('../data/housing.csv')\n",
    "df.head()"
   ]
  },
  {
   "cell_type": "markdown",
   "metadata": {},
   "source": [
    "Missing values and log transformation:"
   ]
  },
  {
   "cell_type": "code",
   "execution_count": 3,
   "metadata": {},
   "outputs": [],
   "source": [
    "df = df.fillna(0)\n",
    "\n",
    "df['median_house_value'] = np.log1p(df['median_house_value'])"
   ]
  },
  {
   "cell_type": "markdown",
   "metadata": {},
   "source": [
    "In order to create a DMatrix for the last question, we will also change the entries `<1H OCEAN` from the `ocean_proximity` column to `1H OCEAN`."
   ]
  },
  {
   "cell_type": "code",
   "execution_count": 4,
   "metadata": {},
   "outputs": [],
   "source": [
    "df.loc[df['ocean_proximity'] == '<1H OCEAN', 'ocean_proximity'] = '1H OCEAN'"
   ]
  },
  {
   "cell_type": "markdown",
   "metadata": {},
   "source": [
    "Train/test split:"
   ]
  },
  {
   "cell_type": "code",
   "execution_count": 5,
   "metadata": {},
   "outputs": [
    {
     "name": "stdout",
     "output_type": "stream",
     "text": [
      "Size of full set: 20640\n",
      "Size of train set: 12384 -> 60.0 %\n",
      "Size of validation set: 4128 -> 20.0 %\n",
      "Size of test set: 4128 -> 20.0 %\n"
     ]
    }
   ],
   "source": [
    "from sklearn.model_selection import train_test_split\n",
    "\n",
    "df_train_full, df_test = train_test_split(df, test_size=0.2, random_state=1)\n",
    "df_train, df_val = train_test_split(df_train_full, test_size=0.25, random_state=1)\n",
    "\n",
    "print(\"Size of full set: {}\".format(len(df)))\n",
    "print(\"Size of train set: {} -> {:0.1f} %\".format(len(df_train), 100 * len(df_train) / len(df)))\n",
    "print(\"Size of validation set: {} -> {:0.1f} %\".format(len(df_val), 100 * len(df_val) / len(df)))\n",
    "print(\"Size of test set: {} -> {:0.1f} %\".format(len(df_test), 100 * len(df_test) / len(df)))"
   ]
  },
  {
   "cell_type": "code",
   "execution_count": 6,
   "metadata": {},
   "outputs": [],
   "source": [
    "y_train = df_train['median_house_value']\n",
    "y_val = df_val['median_house_value']\n",
    "\n",
    "df_train.drop('median_house_value', axis=1, inplace=True)\n",
    "df_val.drop('median_house_value', axis=1, inplace=True)"
   ]
  },
  {
   "cell_type": "markdown",
   "metadata": {},
   "source": [
    "DictVectorizer:"
   ]
  },
  {
   "cell_type": "code",
   "execution_count": 7,
   "metadata": {},
   "outputs": [],
   "source": [
    "from sklearn.feature_extraction import DictVectorizer\n",
    "\n",
    "dict_train = df_train.to_dict(orient='records')\n",
    "dict_val = df_val.to_dict(orient='records')\n",
    "\n",
    "dv = DictVectorizer(sparse=False)\n",
    "\n",
    "X_train = dv.fit_transform(dict_train)\n",
    "X_val = dv.transform(dict_val)"
   ]
  },
  {
   "cell_type": "markdown",
   "metadata": {},
   "source": [
    "## Question 1\n",
    "\n",
    "Let's train a decision tree regressor to predict the `median_house_value` variable. \n",
    "\n",
    "* Train a model with `max_depth=1`.\n",
    "\n",
    "\n",
    "Which feature is used for splitting the data?\n",
    "\n",
    "- [X] `ocean_proximity=INLAND`\n",
    "- [ ] `total_rooms`\n",
    "- [ ] `latitude`\n",
    "- [ ] `population`"
   ]
  },
  {
   "cell_type": "code",
   "execution_count": 8,
   "metadata": {},
   "outputs": [
    {
     "name": "stdout",
     "output_type": "stream",
     "text": [
      "|--- ocean_proximity=INLAND <= 0.50\n",
      "|   |--- value: [12.31]\n",
      "|--- ocean_proximity=INLAND >  0.50\n",
      "|   |--- value: [11.61]\n",
      "\n"
     ]
    }
   ],
   "source": [
    "from sklearn.tree import DecisionTreeRegressor\n",
    "from sklearn.tree import export_text\n",
    "\n",
    "dt = DecisionTreeRegressor(max_depth=1)\n",
    "\n",
    "dt.fit(X_train, y_train)\n",
    "\n",
    "tree_text = export_text(dt, feature_names=dv.feature_names_)\n",
    "\n",
    "print(tree_text)"
   ]
  },
  {
   "cell_type": "markdown",
   "metadata": {},
   "source": [
    "## Question 2\n",
    "\n",
    "Train a random forest model with these parameters:\n",
    "\n",
    "* `n_estimators=10`\n",
    "* `random_state=1`\n",
    "* `n_jobs=-1`  (optional - to make training faster)\n",
    "\n",
    "\n",
    "What's the RMSE of this model on validation?\n",
    "\n",
    "- [ ] 0.05\n",
    "- [X] 0.25\n",
    "- [ ] 0.55\n",
    "- [ ] 0.85"
   ]
  },
  {
   "cell_type": "code",
   "execution_count": 9,
   "metadata": {},
   "outputs": [
    {
     "name": "stdout",
     "output_type": "stream",
     "text": [
      "RMSE Train = 0.11\n",
      "RMSE Validation = 0.25\n"
     ]
    }
   ],
   "source": [
    "from sklearn.ensemble import RandomForestRegressor\n",
    "from sklearn.metrics import mean_squared_error\n",
    "\n",
    "rfr = RandomForestRegressor(n_estimators=10,\n",
    "                            random_state=1,\n",
    "                            n_jobs=-1)\n",
    "\n",
    "rfr.fit(X_train, y_train)\n",
    "\n",
    "y_pred_train = rfr.predict(X_train)\n",
    "y_pred_val = rfr.predict(X_val)\n",
    "\n",
    "rfr_score_train = np.sqrt(mean_squared_error(y_train, y_pred_train))\n",
    "rfr_score_val = np.sqrt(mean_squared_error(y_val, y_pred_val))\n",
    "\n",
    "print(\"RMSE Train = {:0.2f}\".format(rfr_score_train))\n",
    "print(\"RMSE Validation = {:0.2f}\".format(rfr_score_val))"
   ]
  },
  {
   "cell_type": "markdown",
   "metadata": {},
   "source": [
    "## Question 3\n",
    "\n",
    "Now let's experiment with the `n_estimators` parameter\n",
    "\n",
    "* Try different values of this parameter from 10 to 200 with step 10.\n",
    "* Set `random_state` to `1`.\n",
    "* Evaluate the model on the validation dataset.\n",
    "\n",
    "\n",
    "After which value of `n_estimators` does RMSE stop improving?\n",
    "\n",
    "- [X] 10\n",
    "- [ ] 55\n",
    "- [ ] 75\n",
    "- [ ] 150"
   ]
  },
  {
   "cell_type": "code",
   "execution_count": 10,
   "metadata": {},
   "outputs": [
    {
     "name": "stdout",
     "output_type": "stream",
     "text": [
      "RMSE 10 = 0.25\n",
      "RMSE 20 = 0.24\n",
      "RMSE 30 = 0.24\n",
      "RMSE 40 = 0.23\n",
      "RMSE 50 = 0.23\n",
      "RMSE 60 = 0.23\n",
      "RMSE 70 = 0.23\n",
      "RMSE 80 = 0.23\n",
      "RMSE 90 = 0.23\n",
      "RMSE 100 = 0.23\n",
      "RMSE 110 = 0.23\n",
      "RMSE 120 = 0.23\n",
      "RMSE 130 = 0.23\n",
      "RMSE 140 = 0.23\n",
      "RMSE 150 = 0.23\n",
      "RMSE 160 = 0.23\n",
      "RMSE 170 = 0.23\n",
      "RMSE 180 = 0.23\n",
      "RMSE 190 = 0.23\n",
      "RMSE 200 = 0.23\n"
     ]
    }
   ],
   "source": [
    "rmse_scores = []\n",
    "for n in np.arange(10, 210, 10):\n",
    "    rfr = RandomForestRegressor(n_estimators=n,\n",
    "                                random_state=1,\n",
    "                                n_jobs=-1)\n",
    "\n",
    "    rfr.fit(X_train, y_train)\n",
    "\n",
    "    y_pred_val = rfr.predict(X_val)\n",
    "\n",
    "    rfr_score_val = np.sqrt(mean_squared_error(y_val, y_pred_val))\n",
    "\n",
    "    rmse_scores.append(rfr_score_val)\n",
    "    print(\"RMSE {} = {:0.2f}\".format(n, rfr_score_val))"
   ]
  },
  {
   "cell_type": "code",
   "execution_count": 11,
   "metadata": {},
   "outputs": [
    {
     "data": {
      "image/png": "[encoded data removed]",
      "text/plain": [
       "<Figure size 500x300 with 1 Axes>"
      ]
     },
     "metadata": {},
     "output_type": "display_data"
    }
   ],
   "source": [
    "plt.figure(figsize=(5,3))\n",
    "plt.plot(rmse_scores)\n",
    "plt.ylabel('RMSE')\n",
    "plt.xlabel('Number of trees')\n",
    "plt.show()"
   ]
  },
  {
   "cell_type": "markdown",
   "metadata": {},
   "source": [
    "## Question 4\n",
    "\n",
    "Let's select the best `max_depth`:\n",
    "\n",
    "* Try different values of `max_depth`: `[10, 15, 20, 25]`\n",
    "* For each of these values, try different values of `n_estimators` from 10 till 200 (with step 10)\n",
    "* Fix the random seed: `random_state=1`\n",
    "\n",
    "\n",
    "What's the best `max_depth`:\n",
    "\n",
    "- [ ] 10\n",
    "- [ ] 15\n",
    "- [ ] 20\n",
    "- [X] 25"
   ]
  },
  {
   "cell_type": "code",
   "execution_count": 12,
   "metadata": {},
   "outputs": [
    {
     "name": "stdout",
     "output_type": "stream",
     "text": [
      "RMSE 10 = 0.25\n",
      "RMSE 20 = 0.25\n",
      "RMSE 30 = 0.25\n",
      "RMSE 40 = 0.25\n",
      "RMSE 50 = 0.25\n",
      "RMSE 60 = 0.25\n",
      "RMSE 70 = 0.25\n",
      "RMSE 80 = 0.25\n",
      "RMSE 90 = 0.25\n",
      "RMSE 100 = 0.25\n",
      "RMSE 110 = 0.25\n",
      "RMSE 120 = 0.25\n",
      "RMSE 130 = 0.25\n",
      "RMSE 140 = 0.25\n",
      "RMSE 150 = 0.25\n",
      "RMSE 160 = 0.25\n",
      "RMSE 170 = 0.25\n",
      "RMSE 180 = 0.25\n",
      "RMSE 190 = 0.25\n",
      "RMSE 200 = 0.25\n",
      "RMSE 10 = 0.25\n",
      "RMSE 20 = 0.24\n",
      "RMSE 30 = 0.24\n",
      "RMSE 40 = 0.24\n",
      "RMSE 50 = 0.23\n",
      "RMSE 60 = 0.23\n",
      "RMSE 70 = 0.23\n",
      "RMSE 80 = 0.23\n",
      "RMSE 90 = 0.23\n",
      "RMSE 100 = 0.23\n",
      "RMSE 110 = 0.23\n",
      "RMSE 120 = 0.23\n",
      "RMSE 130 = 0.23\n",
      "RMSE 140 = 0.23\n",
      "RMSE 150 = 0.23\n",
      "RMSE 160 = 0.23\n",
      "RMSE 170 = 0.23\n",
      "RMSE 180 = 0.23\n",
      "RMSE 190 = 0.23\n",
      "RMSE 200 = 0.23\n",
      "RMSE 10 = 0.25\n",
      "RMSE 20 = 0.24\n",
      "RMSE 30 = 0.24\n",
      "RMSE 40 = 0.23\n",
      "RMSE 50 = 0.23\n",
      "RMSE 60 = 0.23\n",
      "RMSE 70 = 0.23\n",
      "RMSE 80 = 0.23\n",
      "RMSE 90 = 0.23\n",
      "RMSE 100 = 0.23\n",
      "RMSE 110 = 0.23\n",
      "RMSE 120 = 0.23\n",
      "RMSE 130 = 0.23\n",
      "RMSE 140 = 0.23\n",
      "RMSE 150 = 0.23\n",
      "RMSE 160 = 0.23\n",
      "RMSE 170 = 0.23\n",
      "RMSE 180 = 0.23\n",
      "RMSE 190 = 0.23\n",
      "RMSE 200 = 0.23\n",
      "RMSE 10 = 0.25\n",
      "RMSE 20 = 0.24\n",
      "RMSE 30 = 0.24\n",
      "RMSE 40 = 0.23\n",
      "RMSE 50 = 0.23\n",
      "RMSE 60 = 0.23\n",
      "RMSE 70 = 0.23\n",
      "RMSE 80 = 0.23\n",
      "RMSE 90 = 0.23\n",
      "RMSE 100 = 0.23\n",
      "RMSE 110 = 0.23\n",
      "RMSE 120 = 0.23\n",
      "RMSE 130 = 0.23\n",
      "RMSE 140 = 0.23\n",
      "RMSE 150 = 0.23\n",
      "RMSE 160 = 0.23\n",
      "RMSE 170 = 0.23\n",
      "RMSE 180 = 0.23\n",
      "RMSE 190 = 0.23\n",
      "RMSE 200 = 0.23\n"
     ]
    }
   ],
   "source": [
    "all_rmse = {} \n",
    "for max_depth in [10, 15, 20, 25]:\n",
    "    rmse_scores = []\n",
    "    for n in np.arange(10, 210, 10):\n",
    "        rfr = RandomForestRegressor(n_estimators=n,\n",
    "                                    random_state=1,\n",
    "                                    max_depth=max_depth,\n",
    "                                    n_jobs=-1)\n",
    "\n",
    "        rfr.fit(X_train, y_train)\n",
    "\n",
    "        y_pred_val = rfr.predict(X_val)\n",
    "\n",
    "        rfr_score_val = np.sqrt(mean_squared_error(y_val, y_pred_val))\n",
    "\n",
    "        rmse_scores.append(rfr_score_val)\n",
    "        print(\"RMSE {} = {:0.2f}\".format(n, rfr_score_val))\n",
    "\n",
    "    all_rmse[max_depth] = rmse_scores"
   ]
  },
  {
   "cell_type": "code",
   "execution_count": 13,
   "metadata": {},
   "outputs": [
    {
     "data": {
      "image/png": "[encoded data removed]",
      "text/plain": [
       "<Figure size 500x400 with 1 Axes>"
      ]
     },
     "metadata": {},
     "output_type": "display_data"
    }
   ],
   "source": [
    "num_trees = np.arange(10, 210, 10)\n",
    "\n",
    "plt.figure(figsize=(5, 4))\n",
    "plt.plot(num_trees, all_rmse[10], '-', label='max_depth = 10')\n",
    "plt.plot(num_trees, all_rmse[15], '--', label='max_depth = 15')\n",
    "plt.plot(num_trees, all_rmse[20], '-', label='max_depth = 20')\n",
    "plt.plot(num_trees, all_rmse[25], '-.', label='max_depth = 25')\n",
    "plt.title('Effect of max_depth on RMSE')\n",
    "plt.xlabel('Number of Trees')\n",
    "plt.ylabel('RMSE (Validation)')\n",
    "plt.legend()\n",
    "plt.show()"
   ]
  },
  {
   "cell_type": "markdown",
   "metadata": {},
   "source": [
    "# Question 5\n",
    "\n",
    "We can extract feature importance information from tree-based models. \n",
    "\n",
    "At each step of the decision tree learning algorithm, it finds the best split. \n",
    "When doing it, we can calculate \"gain\" - the reduction in impurity before and after the split. \n",
    "This gain is quite useful in understanding what are the important features for tree-based models.\n",
    "\n",
    "In Scikit-Learn, tree-based models contain this information in the\n",
    "[`feature_importances_`](https://scikit-learn.org/stable/modules/generated/sklearn.ensemble.RandomForestRegressor.html#sklearn.ensemble.RandomForestRegressor.feature_importances_)\n",
    "field. \n",
    "\n",
    "For this homework question, we'll find the most important feature:\n",
    "\n",
    "* Train the model with these parameters:\n",
    "    * `n_estimators=10`,\n",
    "    * `max_depth=20`,\n",
    "    * `random_state=1`,\n",
    "    * `n_jobs=-1` (optional)\n",
    "* Get the feature importance information from this model\n",
    "\n",
    "\n",
    "What's the most important feature? \n",
    "\n",
    "- [ ] `total_rooms`\n",
    "- [X] `median_income`\t\n",
    "- [ ] `total_bedrooms`\n",
    "- [ ] `longitude`"
   ]
  },
  {
   "cell_type": "code",
   "execution_count": 14,
   "metadata": {},
   "outputs": [
    {
     "name": "stdout",
     "output_type": "stream",
     "text": [
      "households 0.016\n",
      "housing_median_age 0.033\n",
      "latitude 0.101\n",
      "longitude 0.096\n",
      "median_income 0.363\n",
      "ocean_proximity=1H OCEAN 0.002\n",
      "ocean_proximity=INLAND 0.311\n",
      "ocean_proximity=ISLAND 0.0\n",
      "ocean_proximity=NEAR BAY 0.0\n",
      "ocean_proximity=NEAR OCEAN 0.005\n",
      "population 0.031\n",
      "total_bedrooms 0.019\n",
      "total_rooms 0.021\n"
     ]
    }
   ],
   "source": [
    "rfr = RandomForestRegressor(n_estimators=10,\n",
    "                            random_state=1,\n",
    "                            max_depth=20,\n",
    "                            n_jobs=-1)\n",
    "\n",
    "rfr.fit(X_train, y_train)\n",
    "\n",
    "y_pred_val = rfr.predict(X_val)\n",
    "\n",
    "rfr_score_val = np.sqrt(mean_squared_error(y_val, y_pred_val))\n",
    "\n",
    "for feature, importance in zip(dv.feature_names_, rfr.feature_importances_):\n",
    "    print(feature, np.round(importance, 3))"
   ]
  },
  {
   "cell_type": "markdown",
   "metadata": {},
   "source": [
    "## Question 6\n",
    "\n",
    "Now let's train an XGBoost model! For this question, we'll tune the `eta` parameter:\n",
    "\n",
    "* Install XGBoost\n",
    "* Create DMatrix for train and validation\n",
    "* Create a watchlist\n",
    "* Train a model with these parameters for 100 rounds:\n",
    "\n",
    "```\n",
    "xgb_params = {\n",
    "    'eta': 0.3, \n",
    "    'max_depth': 6,\n",
    "    'min_child_weight': 1,\n",
    "    \n",
    "    'objective': 'reg:squarederror',\n",
    "    'nthread': 8,\n",
    "    \n",
    "    'seed': 1,\n",
    "    'verbosity': 1,\n",
    "}\n",
    "```\n",
    "\n",
    "Now change `eta` first to `0.1` and then to `0.01`\n",
    "\n",
    "Which eta leads to the best RMSE score on the validation dataset?\n",
    "\n",
    "- [X] 0.3\n",
    "- [ ] 0.1\n",
    "- [ ] Both gives same"
   ]
  },
  {
   "cell_type": "code",
   "execution_count": 15,
   "metadata": {},
   "outputs": [],
   "source": [
    "import xgboost as xgb\n",
    "\n",
    "# Creating a DMatrix for training and validation sets\n",
    "dtrain = xgb.DMatrix(X_train, label=y_train, feature_names=dv.feature_names_)\n",
    "dval = xgb.DMatrix(X_val, label=y_val, feature_names=dv.feature_names_)\n",
    "\n",
    "# Watchlist\n",
    "watchlist = [(dtrain, 'train'), (dval, 'val')]"
   ]
  },
  {
   "cell_type": "code",
   "execution_count": 16,
   "metadata": {},
   "outputs": [
    {
     "name": "stdout",
     "output_type": "stream",
     "text": [
      "ETA: 0.01\n",
      "[0]\ttrain-rmse:11.48634\tval-rmse:11.49225\n",
      "[10]\ttrain-rmse:10.38969\tval-rmse:10.39532\n",
      "[20]\ttrain-rmse:9.39796\tval-rmse:9.40346\n",
      "[30]\ttrain-rmse:8.50110\tval-rmse:8.50645\n",
      "[40]\ttrain-rmse:7.69008\tval-rmse:7.69524\n",
      "[50]\ttrain-rmse:6.95672\tval-rmse:6.96171\n",
      "[60]\ttrain-rmse:6.29360\tval-rmse:6.29841\n",
      "[70]\ttrain-rmse:5.69400\tval-rmse:5.69854\n",
      "[80]\ttrain-rmse:5.15187\tval-rmse:5.15621\n",
      "[90]\ttrain-rmse:4.66171\tval-rmse:4.66589\n",
      "[99]\ttrain-rmse:4.26092\tval-rmse:4.26496\n",
      "ETA: 0.1\n",
      "[0]\ttrain-rmse:10.44372\tval-rmse:10.44938\n",
      "[10]\ttrain-rmse:3.65741\tval-rmse:3.66135\n",
      "[20]\ttrain-rmse:1.30499\tval-rmse:1.31054\n",
      "[30]\ttrain-rmse:0.51144\tval-rmse:0.52189\n",
      "[40]\ttrain-rmse:0.27984\tval-rmse:0.30053\n",
      "[50]\ttrain-rmse:0.22614\tval-rmse:0.25334\n",
      "[60]\ttrain-rmse:0.21035\tval-rmse:0.24189\n",
      "[70]\ttrain-rmse:0.20116\tval-rmse:0.23684\n",
      "[80]\ttrain-rmse:0.19384\tval-rmse:0.23398\n",
      "[90]\ttrain-rmse:0.18794\tval-rmse:0.23206\n",
      "[99]\ttrain-rmse:0.18329\tval-rmse:0.23054\n",
      "ETA: 0.3\n",
      "[0]\ttrain-rmse:8.12733\tval-rmse:8.13245\n",
      "[10]\ttrain-rmse:0.34481\tval-rmse:0.35782\n",
      "[20]\ttrain-rmse:0.21580\tval-rmse:0.24624\n",
      "[30]\ttrain-rmse:0.19440\tval-rmse:0.23741\n",
      "[40]\ttrain-rmse:0.17983\tval-rmse:0.23419\n",
      "[50]\ttrain-rmse:0.16934\tval-rmse:0.23097\n",
      "[60]\ttrain-rmse:0.16177\tval-rmse:0.22950\n",
      "[70]\ttrain-rmse:0.15323\tval-rmse:0.22787\n",
      "[80]\ttrain-rmse:0.14564\tval-rmse:0.22611\n",
      "[90]\ttrain-rmse:0.13892\tval-rmse:0.22628\n",
      "[99]\ttrain-rmse:0.13299\tval-rmse:0.22610\n"
     ]
    }
   ],
   "source": [
    "eta_scores = []\n",
    "for eta in [0.01, 0.1, 0.3]:\n",
    "    xgb_params = {\n",
    "        'eta': eta, \n",
    "        'max_depth': 6,\n",
    "        'min_child_weight': 1,\n",
    "        \n",
    "        'objective': 'reg:squarederror',\n",
    "        'nthread': 8,\n",
    "        \n",
    "        'seed': 1,\n",
    "        'verbosity': 1,\n",
    "    }\n",
    "\n",
    "    print(\"ETA:\", eta)\n",
    "    evals_result = {}\n",
    "    model_xgb = xgb.train(xgb_params, \n",
    "                        dtrain,\n",
    "                        num_boost_round=100,\n",
    "                        evals=watchlist,\n",
    "                        evals_result=evals_result, \n",
    "                        verbose_eval=10)\n",
    "    eta_scores.append(evals_result['val']['rmse'])  "
   ]
  },
  {
   "cell_type": "code",
   "execution_count": 17,
   "metadata": {},
   "outputs": [
    {
     "data": {
      "image/png": "[encoded data removed]",
      "text/plain": [
       "<Figure size 600x400 with 1 Axes>"
      ]
     },
     "metadata": {},
     "output_type": "display_data"
    }
   ],
   "source": [
    "num_trees = range(len(eta_scores[0]))\n",
    "\n",
    "plt.figure(figsize=(6, 4))\n",
    "plt.plot(num_trees, eta_scores[0], '-', label='ETA = 0.01')\n",
    "plt.plot(num_trees, eta_scores[1], '--', label='ETA = 0.1')\n",
    "plt.plot(num_trees, eta_scores[2], '-.', label='ETA = 0.3')\n",
    "plt.title('Effect of learning rate on RMSE')\n",
    "plt.xlabel('Number of Trees')\n",
    "plt.ylabel('AUC (Validation)')\n",
    "plt.legend()\n",
    "plt.show()"
   ]
  }
 ],
 "metadata": {
  "kernelspec": {
   "display_name": "Python 3.9.7 ('zoomcamp-env': venv)",
   "language": "python",
   "name": "python3"
  },
  "language_info": {
   "codemirror_mode": {
    "name": "ipython",
    "version": 3
   },
   "file_extension": ".py",
   "mimetype": "text/x-python",
   "name": "python",
   "nbconvert_exporter": "python",
   "pygments_lexer": "ipython3",
   "version": "3.9.7"
  },
  "orig_nbformat": 4,
  "vscode": {
   "interpreter": {
    "hash": "cde62948adbed426a86fc88bc645cb0506e75cf50bced85084b5306013f7f92f"
   }
  }
 },
 "nbformat": 4,
 "nbformat_minor": 2
}
