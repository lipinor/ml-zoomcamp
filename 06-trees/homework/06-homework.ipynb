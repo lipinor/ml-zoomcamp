{
 "cells": [
  {
   "cell_type": "code",
   "execution_count": null,
   "metadata": {},
   "outputs": [],
   "source": []
  }
 ],
 "metadata": {
  "kernelspec": {
   "display_name": "Python 3.10.7 ('zoomcamp-env': venv)",
   "language": "python",
   "name": "python3"
  },
  "language_info": {
   "name": "python",
   "version": "3.10.7"
  },
  "orig_nbformat": 4,
  "vscode": {
   "interpreter": {
    "hash": "f8f1db29a06d6bdd6498bf017eda2291fdea958a15fbeaa822317602ea49a314"
   }
  }
 },
 "nbformat": 4,
 "nbformat_minor": 2
}
