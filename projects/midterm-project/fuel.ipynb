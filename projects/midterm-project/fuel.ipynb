{
 "cells": [
  {
   "cell_type": "code",
   "execution_count": 6,
   "metadata": {},
   "outputs": [],
   "source": [
    "import numpy as np\n",
    "import pandas as pd\n",
    "\n",
    "import matplotlib.pyplot as plt\n",
    "import seaborn as sns"
   ]
  },
  {
   "cell_type": "code",
   "execution_count": 7,
   "metadata": {},
   "outputs": [
    {
     "data": {
      "text/html": [
       "<div>\n",
       "<style scoped>\n",
       "    .dataframe tbody tr th:only-of-type {\n",
       "        vertical-align: middle;\n",
       "    }\n",
       "\n",
       "    .dataframe tbody tr th {\n",
       "        vertical-align: top;\n",
       "    }\n",
       "\n",
       "    .dataframe thead th {\n",
       "        text-align: right;\n",
       "    }\n",
       "</style>\n",
       "<table border=\"1\" class=\"dataframe\">\n",
       "  <thead>\n",
       "    <tr style=\"text-align: right;\">\n",
       "      <th></th>\n",
       "      <th>model year</th>\n",
       "      <th>make</th>\n",
       "      <th>model</th>\n",
       "      <th>vehicle class</th>\n",
       "      <th>engine size(l)</th>\n",
       "      <th>cylinders</th>\n",
       "      <th>transmission</th>\n",
       "      <th>fuel type</th>\n",
       "      <th>fuel consumption (city (l/100 km)</th>\n",
       "      <th>fuel consumption(hwy (l/100 km))</th>\n",
       "      <th>fuel consumption(comb (l/100 km))</th>\n",
       "      <th>fuel consumption(comb (mpg))</th>\n",
       "      <th>co2 emissions(g/km)</th>\n",
       "      <th>co2 rating</th>\n",
       "      <th>smog rating</th>\n",
       "    </tr>\n",
       "  </thead>\n",
       "  <tbody>\n",
       "    <tr>\n",
       "      <th>0</th>\n",
       "      <td>2022</td>\n",
       "      <td>Acura</td>\n",
       "      <td>ILX</td>\n",
       "      <td>Compact</td>\n",
       "      <td>2.4</td>\n",
       "      <td>4</td>\n",
       "      <td>AM8</td>\n",
       "      <td>Z</td>\n",
       "      <td>9.9</td>\n",
       "      <td>7.0</td>\n",
       "      <td>8.6</td>\n",
       "      <td>33</td>\n",
       "      <td>200</td>\n",
       "      <td>6</td>\n",
       "      <td>3</td>\n",
       "    </tr>\n",
       "    <tr>\n",
       "      <th>1</th>\n",
       "      <td>2022</td>\n",
       "      <td>Acura</td>\n",
       "      <td>MDX SH-AWD</td>\n",
       "      <td>SUV: Small</td>\n",
       "      <td>3.5</td>\n",
       "      <td>6</td>\n",
       "      <td>AS10</td>\n",
       "      <td>Z</td>\n",
       "      <td>12.6</td>\n",
       "      <td>9.4</td>\n",
       "      <td>11.2</td>\n",
       "      <td>25</td>\n",
       "      <td>263</td>\n",
       "      <td>4</td>\n",
       "      <td>5</td>\n",
       "    </tr>\n",
       "    <tr>\n",
       "      <th>2</th>\n",
       "      <td>2022</td>\n",
       "      <td>Acura</td>\n",
       "      <td>RDX SH-AWD</td>\n",
       "      <td>SUV: Small</td>\n",
       "      <td>2.0</td>\n",
       "      <td>4</td>\n",
       "      <td>AS10</td>\n",
       "      <td>Z</td>\n",
       "      <td>11.0</td>\n",
       "      <td>8.6</td>\n",
       "      <td>9.9</td>\n",
       "      <td>29</td>\n",
       "      <td>232</td>\n",
       "      <td>5</td>\n",
       "      <td>6</td>\n",
       "    </tr>\n",
       "    <tr>\n",
       "      <th>3</th>\n",
       "      <td>2022</td>\n",
       "      <td>Acura</td>\n",
       "      <td>RDX SH-AWD A-SPEC</td>\n",
       "      <td>SUV: Small</td>\n",
       "      <td>2.0</td>\n",
       "      <td>4</td>\n",
       "      <td>AS10</td>\n",
       "      <td>Z</td>\n",
       "      <td>11.3</td>\n",
       "      <td>9.1</td>\n",
       "      <td>10.3</td>\n",
       "      <td>27</td>\n",
       "      <td>242</td>\n",
       "      <td>5</td>\n",
       "      <td>6</td>\n",
       "    </tr>\n",
       "    <tr>\n",
       "      <th>4</th>\n",
       "      <td>2022</td>\n",
       "      <td>Acura</td>\n",
       "      <td>TLX SH-AWD</td>\n",
       "      <td>Compact</td>\n",
       "      <td>2.0</td>\n",
       "      <td>4</td>\n",
       "      <td>AS10</td>\n",
       "      <td>Z</td>\n",
       "      <td>11.2</td>\n",
       "      <td>8.0</td>\n",
       "      <td>9.8</td>\n",
       "      <td>29</td>\n",
       "      <td>230</td>\n",
       "      <td>5</td>\n",
       "      <td>7</td>\n",
       "    </tr>\n",
       "  </tbody>\n",
       "</table>\n",
       "</div>"
      ],
      "text/plain": [
       "   model year   make              model vehicle class  engine size(l)  \\\n",
       "0        2022  Acura                ILX       Compact             2.4   \n",
       "1        2022  Acura         MDX SH-AWD    SUV: Small             3.5   \n",
       "2        2022  Acura         RDX SH-AWD    SUV: Small             2.0   \n",
       "3        2022  Acura  RDX SH-AWD A-SPEC    SUV: Small             2.0   \n",
       "4        2022  Acura         TLX SH-AWD       Compact             2.0   \n",
       "\n",
       "   cylinders transmission fuel type  fuel consumption (city (l/100 km)  \\\n",
       "0          4          AM8         Z                                9.9   \n",
       "1          6         AS10         Z                               12.6   \n",
       "2          4         AS10         Z                               11.0   \n",
       "3          4         AS10         Z                               11.3   \n",
       "4          4         AS10         Z                               11.2   \n",
       "\n",
       "   fuel consumption(hwy (l/100 km))  fuel consumption(comb (l/100 km))  \\\n",
       "0                               7.0                                8.6   \n",
       "1                               9.4                               11.2   \n",
       "2                               8.6                                9.9   \n",
       "3                               9.1                               10.3   \n",
       "4                               8.0                                9.8   \n",
       "\n",
       "   fuel consumption(comb (mpg))  co2 emissions(g/km)  co2 rating  smog rating  \n",
       "0                            33                  200           6            3  \n",
       "1                            25                  263           4            5  \n",
       "2                            29                  232           5            6  \n",
       "3                            27                  242           5            6  \n",
       "4                            29                  230           5            7  "
      ]
     },
     "execution_count": 7,
     "metadata": {},
     "output_type": "execute_result"
    }
   ],
   "source": [
    "df = pd.read_csv('data/MY2022_Fuel_Consumption_Ratings.csv')\n",
    "df.columns = df.columns.str.lower()\n",
    "df.head()"
   ]
  },
  {
   "cell_type": "code",
   "execution_count": 8,
   "metadata": {},
   "outputs": [
    {
     "name": "stdout",
     "output_type": "stream",
     "text": [
      "Number of samples: 946\n",
      "Number of features: 15\n"
     ]
    }
   ],
   "source": [
    "print(\"Number of samples: %.0f\" % df.shape[0])\n",
    "print(\"Number of features: %.0f\" % df.shape[1])"
   ]
  },
  {
   "cell_type": "markdown",
   "metadata": {},
   "source": [
    "## Data Validation"
   ]
  },
  {
   "cell_type": "code",
   "execution_count": 9,
   "metadata": {},
   "outputs": [
    {
     "data": {
      "text/plain": [
       "model year                           0\n",
       "make                                 0\n",
       "model                                0\n",
       "vehicle class                        0\n",
       "engine size(l)                       0\n",
       "cylinders                            0\n",
       "transmission                         0\n",
       "fuel type                            0\n",
       "fuel consumption (city (l/100 km)    0\n",
       "fuel consumption(hwy (l/100 km))     0\n",
       "fuel consumption(comb (l/100 km))    0\n",
       "fuel consumption(comb (mpg))         0\n",
       "co2 emissions(g/km)                  0\n",
       "co2 rating                           0\n",
       "smog rating                          0\n",
       "dtype: int64"
      ]
     },
     "execution_count": 9,
     "metadata": {},
     "output_type": "execute_result"
    }
   ],
   "source": [
    "df.isnull().sum()"
   ]
  },
  {
   "cell_type": "markdown",
   "metadata": {},
   "source": [
    "The dataset is clean."
   ]
  },
  {
   "cell_type": "code",
   "execution_count": 14,
   "metadata": {},
   "outputs": [
    {
     "data": {
      "text/plain": [
       "2022    946\n",
       "Name: model year, dtype: int64"
      ]
     },
     "execution_count": 14,
     "metadata": {},
     "output_type": "execute_result"
    }
   ],
   "source": [
    "df['model year'].value_counts()"
   ]
  },
  {
   "cell_type": "code",
   "execution_count": 15,
   "metadata": {},
   "outputs": [],
   "source": [
    "del df['model year']"
   ]
  },
  {
   "cell_type": "code",
   "execution_count": 19,
   "metadata": {},
   "outputs": [
    {
     "data": {
      "text/plain": [
       "39"
      ]
     },
     "execution_count": 19,
     "metadata": {},
     "output_type": "execute_result"
    }
   ],
   "source": [
    "df['make'].nunique()"
   ]
  },
  {
   "cell_type": "code",
   "execution_count": 10,
   "metadata": {},
   "outputs": [],
   "source": [
    "from sklearn.model_selection import train_test_split\n",
    "\n",
    "df_train_full, df_test = train_test_split(df, test_size=0.2, random_state=11)\n",
    "df_train, df_val = train_test_split(df_train_full, test_size=0.25, random_state=11)"
   ]
  },
  {
   "cell_type": "markdown",
   "metadata": {},
   "source": [
    "## Exploratory Data Analysis"
   ]
  },
  {
   "cell_type": "code",
   "execution_count": 20,
   "metadata": {},
   "outputs": [],
   "source": [
    "# Creating target series\n",
    "y_train = df_train['co2 emissions(g/km)']\n",
    "y_val = df_val['co2 emissions(g/km)']\n",
    "\n",
    "# Removing target from train sets\n",
    "df_train.drop(['co2 emissions(g/km)'], axis=1, inplace=True)\n",
    "df_val.drop(['co2 emissions(g/km)'], axis=1, inplace=True)"
   ]
  },
  {
   "cell_type": "code",
   "execution_count": 21,
   "metadata": {},
   "outputs": [],
   "source": [
    "from sklearn.feature_extraction import DictVectorizer\n",
    "\n",
    "dict_train = df_train.to_dict(orient='records')\n",
    "dict_val = df_val.to_dict(orient='records')\n",
    "\n",
    "dv = DictVectorizer(sparse=False)\n",
    "\n",
    "X_train = dv.fit_transform(dict_train)\n",
    "X_val = dv.transform(dict_val)"
   ]
  },
  {
   "cell_type": "code",
   "execution_count": 30,
   "metadata": {},
   "outputs": [
    {
     "name": "stdout",
     "output_type": "stream",
     "text": [
      "ROC AUC Train = 2.542\n",
      "ROC AUC Validation = 7.314\n"
     ]
    }
   ],
   "source": [
    "from sklearn.ensemble import RandomForestRegressor\n",
    "from sklearn.metrics import mean_squared_error\n",
    "\n",
    "rfr = RandomForestRegressor()\n",
    "\n",
    "rfr.fit(X_train, y_train)\n",
    "\n",
    "y_pred_train = rfr.predict(X_train)\n",
    "y_pred_val = rfr.predict(X_val)\n",
    "\n",
    "rfr_score_train = np.sqrt(mean_squared_error(y_train, y_pred_train))\n",
    "rfr_score_val = np.sqrt(mean_squared_error(y_val, y_pred_val))\n",
    "\n",
    "print(\"ROC AUC Train = {:0.3f}\".format(rfr_score_train))\n",
    "print(\"ROC AUC Validation = {:0.3f}\".format(rfr_score_val))"
   ]
  },
  {
   "cell_type": "code",
   "execution_count": null,
   "metadata": {},
   "outputs": [],
   "source": [
    "dict_test = df_test.to_dict(orient='records')\n",
    "X_test = dv.fit_transform(dict_test)\n",
    "\n",
    "y_test = df_test['cooling_load']\n",
    "\n",
    "y_pred_test = rfr.predict(X_test)\n",
    "\n",
    "score_model_test = np.sqrt(mean_squared_error(y_test, y_pred_test))\n",
    "\n",
    "print(\"RMSE Test: \", score_model_test)"
   ]
  },
  {
   "cell_type": "code",
   "execution_count": 32,
   "metadata": {},
   "outputs": [
    {
     "name": "stdout",
     "output_type": "stream",
     "text": [
      " 10 -> 8.706\n",
      " 20 -> 7.698\n",
      " 30 -> 7.686\n",
      " 40 -> 7.509\n",
      " 50 -> 7.459\n",
      " 60 -> 7.507\n",
      " 70 -> 7.579\n",
      " 80 -> 7.745\n",
      " 90 -> 7.968\n",
      "100 -> 7.765\n",
      "110 -> 7.834\n",
      "120 -> 7.602\n",
      "130 -> 7.548\n",
      "140 -> 7.542\n",
      "150 -> 7.554\n",
      "160 -> 7.675\n",
      "170 -> 7.543\n",
      "180 -> 7.555\n",
      "190 -> 7.603\n",
      "200 -> 7.590\n"
     ]
    }
   ],
   "source": [
    "rmses = []\n",
    "for n in range(10, 201, 10):\n",
    "\n",
    "    rfr = RandomForestRegressor(n_estimators=n, random_state=3)\n",
    "    rfr.fit(X_train, y_train)\n",
    "\n",
    "    y_pred = rfr.predict(X_val)\n",
    "    rmse = np.sqrt(mean_squared_error(y_val, y_pred))\n",
    "    print('%3s -> %.3f' % (n, rmse))\n",
    "\n",
    "    rmses.append(rmse)"
   ]
  },
  {
   "cell_type": "code",
   "execution_count": 34,
   "metadata": {},
   "outputs": [
    {
     "data": {
      "image/png": "[encoded data removed]",
      "text/plain": [
       "<Figure size 500x300 with 1 Axes>"
      ]
     },
     "metadata": {},
     "output_type": "display_data"
    }
   ],
   "source": [
    "num_trees = range(10, 201, 10)\n",
    "\n",
    "plt.figure(figsize=(5,3))\n",
    "plt.plot(num_trees, rmses)\n",
    "plt.xlabel('Nº of trees')\n",
    "plt.ylabel('RMSE')\n",
    "plt.title('Number of trees vs RMSE')\n",
    "plt.show()"
   ]
  },
  {
   "cell_type": "code",
   "execution_count": 35,
   "metadata": {},
   "outputs": [
    {
     "name": "stdout",
     "output_type": "stream",
     "text": [
      "max_depth: 5\n",
      " 10 -> 10.183\n",
      " 20 -> 10.125\n",
      " 30 -> 10.347\n",
      " 40 -> 9.588\n",
      " 50 -> 9.425\n",
      " 60 -> 9.374\n",
      " 70 -> 9.329\n",
      " 80 -> 9.446\n",
      " 90 -> 9.310\n",
      "100 -> 9.346\n",
      "110 -> 9.193\n",
      "120 -> 9.036\n",
      "130 -> 9.151\n",
      "140 -> 9.108\n",
      "150 -> 9.005\n",
      "160 -> 9.053\n",
      "170 -> 9.027\n",
      "180 -> 9.145\n",
      "190 -> 9.312\n",
      "200 -> 9.270\n",
      "\n",
      "max_depth: 10\n",
      " 10 -> 5.429\n",
      " 20 -> 5.555\n",
      " 30 -> 5.966\n",
      " 40 -> 5.770\n",
      " 50 -> 6.133\n",
      " 60 -> 6.421\n",
      " 70 -> 6.731\n",
      " 80 -> 6.844\n",
      " 90 -> 6.927\n",
      "100 -> 6.857\n",
      "110 -> 6.781\n",
      "120 -> 6.823\n",
      "130 -> 6.839\n",
      "140 -> 6.875\n",
      "150 -> 6.872\n",
      "160 -> 6.919\n",
      "170 -> 7.075\n",
      "180 -> 7.117\n",
      "190 -> 7.214\n",
      "200 -> 7.249\n",
      "\n",
      "max_depth: 20\n",
      " 10 -> 8.706\n",
      " 20 -> 7.698\n",
      " 30 -> 7.686\n",
      " 40 -> 7.509\n",
      " 50 -> 7.459\n",
      " 60 -> 7.507\n",
      " 70 -> 7.579\n",
      " 80 -> 7.745\n",
      " 90 -> 7.968\n",
      "100 -> 7.765\n",
      "110 -> 7.834\n",
      "120 -> 7.602\n",
      "130 -> 7.548\n",
      "140 -> 7.542\n",
      "150 -> 7.554\n",
      "160 -> 7.675\n",
      "170 -> 7.543\n",
      "180 -> 7.555\n",
      "190 -> 7.603\n",
      "200 -> 7.590\n",
      "\n"
     ]
    }
   ],
   "source": [
    "all_rmses_depth = {}\n",
    "\n",
    "for depth in [5, 10, 20]:\n",
    "    print('max_depth: %s' % depth)\n",
    "\n",
    "    rmses = []\n",
    "    for trees in range(10, 201, 10):\n",
    "        rfr = RandomForestRegressor(n_estimators=trees, \n",
    "                                    max_depth=depth, \n",
    "                                    random_state=3)\n",
    "        rfr.fit(X_train, y_train)\n",
    "\n",
    "        y_pred = rfr.predict(X_val)\n",
    "        rmse = np.sqrt(mean_squared_error(y_val, y_pred))\n",
    "        print('%3s -> %.3f' % (trees, rmse))\n",
    "\n",
    "        rmses.append(rmse)\n",
    "    \n",
    "    print()\n",
    "\n",
    "    all_rmses_depth[depth] = rmses"
   ]
  },
  {
   "cell_type": "code",
   "execution_count": 37,
   "metadata": {},
   "outputs": [
    {
     "data": {
      "image/png": "[encoded data removed]",
      "text/plain": [
       "<Figure size 500x300 with 1 Axes>"
      ]
     },
     "metadata": {},
     "output_type": "display_data"
    }
   ],
   "source": [
    "plt.figure(figsize=(5,3))\n",
    "plt.plot(num_trees, all_rmses_depth[5], '-', label='max_depth = 5')\n",
    "plt.plot(num_trees, all_rmses_depth[10], '--', label='max_depth = 10')\n",
    "plt.plot(num_trees, all_rmses_depth[20], '-.', label='max_depth = 20')\n",
    "plt.xlabel('Nº of trees')\n",
    "plt.ylabel('RMSE')\n",
    "plt.legend()\n",
    "plt.title('Number of trees vs RMSE')\n",
    "plt.show()"
   ]
  },
  {
   "cell_type": "code",
   "execution_count": 41,
   "metadata": {},
   "outputs": [
    {
     "name": "stdout",
     "output_type": "stream",
     "text": [
      "min_samples_leaf: 3\n",
      " 10 -> 9.042\n",
      " 20 -> 8.048\n",
      " 30 -> 8.312\n",
      " 40 -> 8.335\n",
      " 50 -> 8.018\n",
      " 60 -> 8.288\n",
      " 70 -> 8.277\n",
      " 80 -> 8.323\n",
      " 90 -> 8.595\n",
      "100 -> 8.558\n",
      "110 -> 8.344\n",
      "120 -> 8.373\n",
      "130 -> 8.397\n",
      "140 -> 8.284\n",
      "150 -> 8.304\n",
      "160 -> 8.405\n",
      "170 -> 8.483\n",
      "180 -> 8.505\n",
      "190 -> 8.610\n",
      "200 -> 8.635\n",
      "\n",
      "min_samples_leaf: 5\n",
      " 10 -> 8.511\n",
      " 20 -> 8.173\n",
      " 30 -> 8.535\n",
      " 40 -> 9.270\n",
      " 50 -> 9.248\n",
      " 60 -> 8.969\n",
      " 70 -> 8.796\n",
      " 80 -> 8.586\n",
      " 90 -> 8.649\n",
      "100 -> 8.653\n",
      "110 -> 8.703\n",
      "120 -> 8.663\n",
      "130 -> 8.607\n",
      "140 -> 8.515\n",
      "150 -> 8.480\n",
      "160 -> 8.480\n",
      "170 -> 8.416\n",
      "180 -> 8.573\n",
      "190 -> 8.533\n",
      "200 -> 8.626\n",
      "\n",
      "min_samples_leaf: 10\n",
      " 10 -> 9.820\n",
      " 20 -> 10.140\n",
      " 30 -> 9.474\n",
      " 40 -> 9.106\n",
      " 50 -> 8.986\n",
      " 60 -> 9.137\n",
      " 70 -> 9.103\n",
      " 80 -> 9.208\n",
      " 90 -> 9.161\n",
      "100 -> 9.188\n",
      "110 -> 9.200\n",
      "120 -> 9.105\n",
      "130 -> 9.106\n",
      "140 -> 9.087\n",
      "150 -> 9.069\n",
      "160 -> 9.139\n",
      "170 -> 9.145\n",
      "180 -> 9.178\n",
      "190 -> 9.249\n",
      "200 -> 9.364\n",
      "\n"
     ]
    }
   ],
   "source": [
    "all_rmses_leaf = {}\n",
    "\n",
    "for samples in [3, 5, 10]:\n",
    "    print('min_samples_leaf: %s' % samples)\n",
    "\n",
    "    rmses = []\n",
    "    for trees in range(10, 201, 10):\n",
    "        rfr = RandomForestRegressor(n_estimators=trees,\n",
    "                                     max_depth=10, \n",
    "                                     min_samples_leaf=samples, \n",
    "                                     random_state=3)\n",
    "        rfr.fit(X_train, y_train)\n",
    "\n",
    "        y_pred = rfr.predict(X_val)\n",
    "        rmse = np.sqrt(mean_squared_error(y_val, y_pred))\n",
    "        print('%3s -> %.3f' % (trees, rmse))\n",
    "\n",
    "        rmses.append(rmse)\n",
    "    \n",
    "    print()\n",
    "\n",
    "    all_rmses_leaf[samples] = rmses"
   ]
  },
  {
   "cell_type": "code",
   "execution_count": 42,
   "metadata": {},
   "outputs": [
    {
     "data": {
      "image/png": "[encoded data removed]",
      "text/plain": [
       "<Figure size 500x300 with 1 Axes>"
      ]
     },
     "metadata": {},
     "output_type": "display_data"
    }
   ],
   "source": [
    "plt.figure(figsize=(5,3))\n",
    "plt.plot(num_trees, all_rmses_leaf[3], '-', label='min_samples_leaf = 3')\n",
    "plt.plot(num_trees, all_rmses_leaf[5], '--', label='min_samples_leaf = 5')\n",
    "plt.plot(num_trees, all_rmses_leaf[10], '-.', label='min_samples_leaf = 10')\n",
    "plt.xlabel('Nº of trees')\n",
    "plt.ylabel('RMSE')\n",
    "plt.legend()\n",
    "plt.title('Number of trees vs RMSE')\n",
    "plt.show()"
   ]
  },
  {
   "cell_type": "code",
   "execution_count": 43,
   "metadata": {},
   "outputs": [
    {
     "name": "stdout",
     "output_type": "stream",
     "text": [
      "ROC AUC Train = 5.334\n",
      "ROC AUC Validation = 8.018\n"
     ]
    }
   ],
   "source": [
    "rfr_final = RandomForestRegressor(n_estimators=50, \n",
    "                                  max_depth=10, \n",
    "                                  min_samples_leaf=3,\n",
    "                                  random_state=3)\n",
    "\n",
    "rfr_final.fit(X_train, y_train)\n",
    "\n",
    "y_pred_train = rfr_final.predict(X_train)\n",
    "y_pred_val = rfr_final.predict(X_val)\n",
    "\n",
    "rfr_score_train = np.sqrt(mean_squared_error(y_train, y_pred_train))\n",
    "rfr_score_val = np.sqrt(mean_squared_error(y_val, y_pred_val))\n",
    "\n",
    "print(\"ROC AUC Train = {:0.3f}\".format(rfr_score_train))\n",
    "print(\"ROC AUC Validation = {:0.3f}\".format(rfr_score_val))"
   ]
  }
 ],
 "metadata": {
  "kernelspec": {
   "display_name": "Python 3.10.8 ('zoomcamp-env': venv)",
   "language": "python",
   "name": "python3"
  },
  "language_info": {
   "codemirror_mode": {
    "name": "ipython",
    "version": 3
   },
   "file_extension": ".py",
   "mimetype": "text/x-python",
   "name": "python",
   "nbconvert_exporter": "python",
   "pygments_lexer": "ipython3",
   "version": "3.10.8"
  },
  "orig_nbformat": 4,
  "vscode": {
   "interpreter": {
    "hash": "a24359d007d9cbd3fc4971c8b61b26f4f05fceb55bca8d02d515148dea9eb97b"
   }
  }
 },
 "nbformat": 4,
 "nbformat_minor": 2
}
